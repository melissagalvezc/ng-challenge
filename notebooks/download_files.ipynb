{
 "cells": [
  {
   "cell_type": "code",
   "execution_count": 1,
   "id": "72e0c4c4-02bf-42aa-a677-2eea6c5748fd",
   "metadata": {},
   "outputs": [],
   "source": [
    "import requests"
   ]
  },
  {
   "cell_type": "code",
   "execution_count": 2,
   "id": "5b5da225-e484-4819-b52d-a15e284b57d8",
   "metadata": {},
   "outputs": [],
   "source": [
    "from bs4 import BeautifulSoup"
   ]
  },
  {
   "cell_type": "code",
   "execution_count": 3,
   "id": "b390b900-5a95-4c23-85c0-5bcfb63353fd",
   "metadata": {},
   "outputs": [],
   "source": [
    "url = 'https://download.bls.gov/pub/time.series/ce/'"
   ]
  },
  {
   "cell_type": "code",
   "execution_count": 4,
   "id": "0fc06b55-09bb-493b-b37d-c24050bc1547",
   "metadata": {},
   "outputs": [],
   "source": [
    "response = requests.get(url,headers = {\"user-agent\":\"melissa.galvez@nimblegravity.com\"})"
   ]
  },
  {
   "cell_type": "code",
   "execution_count": 5,
   "id": "4fe67bd7-796e-4982-a844-8f531940f5e6",
   "metadata": {},
   "outputs": [
    {
     "data": {
      "text/plain": [
       "<Response [200]>"
      ]
     },
     "execution_count": 5,
     "metadata": {},
     "output_type": "execute_result"
    }
   ],
   "source": [
    "response"
   ]
  },
  {
   "cell_type": "code",
   "execution_count": 6,
   "id": "d87051dd-d08a-4d65-b29b-e6c0ba0e0a17",
   "metadata": {
    "scrolled": true
   },
   "outputs": [],
   "source": [
    "response_text = response.text"
   ]
  },
  {
   "cell_type": "code",
   "execution_count": 7,
   "id": "5552eb0b-ae28-4dc6-92ef-6abb703738ce",
   "metadata": {},
   "outputs": [],
   "source": [
    "soup = BeautifulSoup(response_text,'html.parser')"
   ]
  },
  {
   "cell_type": "code",
   "execution_count": 8,
   "id": "411be24f-704e-4ab7-98a2-741eb8a82ab4",
   "metadata": {},
   "outputs": [],
   "source": [
    "links = soup.find_all('a')"
   ]
  },
  {
   "cell_type": "code",
   "execution_count": 9,
   "id": "d15362b2-d375-4e16-8bcc-241ebb3e27d1",
   "metadata": {},
   "outputs": [],
   "source": [
    "file_names = [\n",
    "    link.get('href').split('/')[-1]\n",
    "    for link in links\n",
    "    if link.get('href').startswith('/pub/time.series/ce/ce.')\n",
    "]"
   ]
  },
  {
   "cell_type": "code",
   "execution_count": 10,
   "id": "584bf39d-6403-443a-af48-780bf770b2f3",
   "metadata": {
    "scrolled": true
   },
   "outputs": [
    {
     "data": {
      "text/plain": [
       "['ce.contacts',\n",
       " 'ce.data.0.AllCESSeries',\n",
       " 'ce.data.00a.TotalNonfarm.Employment',\n",
       " 'ce.data.01a.CurrentSeasAE',\n",
       " 'ce.data.02b.AllRealEarningsAE',\n",
       " 'ce.data.03c.AllRealEarningsPE',\n",
       " 'ce.data.05a.TotalPrivate.Employment',\n",
       " 'ce.data.05b.TotalPrivate.AllEmployeeHoursAndEarnings',\n",
       " 'ce.data.05c.TotalPrivate.ProductionEmployeeHoursAndEarnings',\n",
       " 'ce.data.10a.MiningAndLogging.Employment',\n",
       " 'ce.data.10b.MiningAndLogging.AllEmployeeHoursAndEarnings',\n",
       " 'ce.data.10c.MiningAndLogging.ProductionEmployeeHoursAndEarnings',\n",
       " 'ce.data.20a.Construction.Employment',\n",
       " 'ce.data.20b.Construction.AllEmployeeHoursAndEarnings',\n",
       " 'ce.data.20c.Construction.ProductionEmployeeHoursAndEarnings',\n",
       " 'ce.data.30a.Manufacturing.Employment',\n",
       " 'ce.data.30b.Manufacturing.AllEmployeeHoursAndEarnings',\n",
       " 'ce.data.30c.Manufacturing.ProductionEmployeeHoursAndEarnings',\n",
       " 'ce.data.31a.ManufacturingDurableGoods.Employment',\n",
       " 'ce.data.31b.ManufacturingDurableGoods.AllEmployeeHoursAndEarnings',\n",
       " 'ce.data.31c.ManufacturingDurableGoods.ProductionEmployeeHoursAndEarnings',\n",
       " 'ce.data.32a.ManufacturingNondurableGoods.Employment',\n",
       " 'ce.data.32b.ManufacturingNondurableGoods.AllEmployeeHoursAndEarnings',\n",
       " 'ce.data.32c.ManufacturingNondurableGoods.ProductionEmployeeHoursAndEarnings',\n",
       " 'ce.data.40a.TradeTransportationAndUtilities.Employment',\n",
       " 'ce.data.40b.TradeTransportationAndUtilities.AllEmployeeHoursAndEarnings',\n",
       " 'ce.data.40c.TradeTransportationAndUtilities.ProductionEmployeeHoursAndEarnings',\n",
       " 'ce.data.41a.WholesaleTrade.Employment',\n",
       " 'ce.data.41b.WholesaleTrade.AllEmployeeHoursAndEarnings',\n",
       " 'ce.data.41c.WholesaleTrade.ProductionEmployeeHoursAndEarnings',\n",
       " 'ce.data.42a.RetailTrade.Employment',\n",
       " 'ce.data.42b.RetailTrade.AllEmployeeHoursAndEarnings',\n",
       " 'ce.data.42c.RetailTrade.ProductionEmployeeHoursAndEarnings',\n",
       " 'ce.data.43a.TransportationAndWarehousingAndUtilities.Employment',\n",
       " 'ce.data.43b.TransportationAndWarehousingAndUtilities.AllEmployeeHoursAndEarnings',\n",
       " 'ce.data.43c.TransportationAndWarehousingAndUtilities.ProductionEmployeeHoursAndEarnings',\n",
       " 'ce.data.50a.Information.Employment',\n",
       " 'ce.data.50b.Information.AllEmployeeHoursAndEarnings',\n",
       " 'ce.data.50c.Information.ProductionEmployeeHoursAndEarnings',\n",
       " 'ce.data.55a.FinancialActivities.Employment',\n",
       " 'ce.data.55b.FinancialActivities.AllEmployeeHoursAndEarnings',\n",
       " 'ce.data.55c.FinancialActivities.ProductionEmployeeHoursAndEarnings',\n",
       " 'ce.data.60a.ProfessionalBusinessServices.Employment',\n",
       " 'ce.data.60b.ProfessionalBusinessServices.AllEmployeeHoursAndEarnings',\n",
       " 'ce.data.60c.ProfessionalBusinessServices.ProductionEmployeeHoursAndEarnings',\n",
       " 'ce.data.65a.EducationAndHealthCare.Employment',\n",
       " 'ce.data.65b.EducationAndHealthCare.AllEmployeeHoursAndEarnings',\n",
       " 'ce.data.65c.EducationAndHealthCare.ProductionEmployeeHoursAndEarnings',\n",
       " 'ce.data.70a.LeisureAndHospitality.Employment',\n",
       " 'ce.data.70b.LeisureAndHospitality.AllEmployeeHoursAndEarnings',\n",
       " 'ce.data.70c.LeisureAndHospitality.ProductionEmployeeHoursAndEarnings',\n",
       " 'ce.data.80a.OtherServices.Employment',\n",
       " 'ce.data.80b.OtherServices.AllEmployeeHoursAndEarnings',\n",
       " 'ce.data.80c.OtherServices.ProductionEmployeeHoursAndEarnings',\n",
       " 'ce.data.90a.Government.Employment',\n",
       " 'ce.data.Goog',\n",
       " 'ce.datatype',\n",
       " 'ce.footnote',\n",
       " 'ce.industry',\n",
       " 'ce.period',\n",
       " 'ce.seasonal',\n",
       " 'ce.series',\n",
       " 'ce.supersector',\n",
       " 'ce.txt']"
      ]
     },
     "execution_count": 10,
     "metadata": {},
     "output_type": "execute_result"
    }
   ],
   "source": [
    "file_names"
   ]
  },
  {
   "cell_type": "code",
   "execution_count": 11,
   "id": "730ad53b-1b70-4749-996d-f6e30b7afd6a",
   "metadata": {},
   "outputs": [],
   "source": [
    "parent = [url + link.get('href').split('/')[-1]  # Get link for each file\n",
    "    for link in links\n",
    "    if link.get('href').startswith('/pub/time.series/ce/ce.')]"
   ]
  },
  {
   "cell_type": "code",
   "execution_count": 12,
   "id": "e9bf7dbc-b099-4a1c-95aa-2fb0662b2420",
   "metadata": {
    "scrolled": true
   },
   "outputs": [
    {
     "data": {
      "text/plain": [
       "['https://download.bls.gov/pub/time.series/ce/ce.contacts',\n",
       " 'https://download.bls.gov/pub/time.series/ce/ce.data.0.AllCESSeries',\n",
       " 'https://download.bls.gov/pub/time.series/ce/ce.data.00a.TotalNonfarm.Employment',\n",
       " 'https://download.bls.gov/pub/time.series/ce/ce.data.01a.CurrentSeasAE',\n",
       " 'https://download.bls.gov/pub/time.series/ce/ce.data.02b.AllRealEarningsAE',\n",
       " 'https://download.bls.gov/pub/time.series/ce/ce.data.03c.AllRealEarningsPE',\n",
       " 'https://download.bls.gov/pub/time.series/ce/ce.data.05a.TotalPrivate.Employment',\n",
       " 'https://download.bls.gov/pub/time.series/ce/ce.data.05b.TotalPrivate.AllEmployeeHoursAndEarnings',\n",
       " 'https://download.bls.gov/pub/time.series/ce/ce.data.05c.TotalPrivate.ProductionEmployeeHoursAndEarnings',\n",
       " 'https://download.bls.gov/pub/time.series/ce/ce.data.10a.MiningAndLogging.Employment',\n",
       " 'https://download.bls.gov/pub/time.series/ce/ce.data.10b.MiningAndLogging.AllEmployeeHoursAndEarnings',\n",
       " 'https://download.bls.gov/pub/time.series/ce/ce.data.10c.MiningAndLogging.ProductionEmployeeHoursAndEarnings',\n",
       " 'https://download.bls.gov/pub/time.series/ce/ce.data.20a.Construction.Employment',\n",
       " 'https://download.bls.gov/pub/time.series/ce/ce.data.20b.Construction.AllEmployeeHoursAndEarnings',\n",
       " 'https://download.bls.gov/pub/time.series/ce/ce.data.20c.Construction.ProductionEmployeeHoursAndEarnings',\n",
       " 'https://download.bls.gov/pub/time.series/ce/ce.data.30a.Manufacturing.Employment',\n",
       " 'https://download.bls.gov/pub/time.series/ce/ce.data.30b.Manufacturing.AllEmployeeHoursAndEarnings',\n",
       " 'https://download.bls.gov/pub/time.series/ce/ce.data.30c.Manufacturing.ProductionEmployeeHoursAndEarnings',\n",
       " 'https://download.bls.gov/pub/time.series/ce/ce.data.31a.ManufacturingDurableGoods.Employment',\n",
       " 'https://download.bls.gov/pub/time.series/ce/ce.data.31b.ManufacturingDurableGoods.AllEmployeeHoursAndEarnings',\n",
       " 'https://download.bls.gov/pub/time.series/ce/ce.data.31c.ManufacturingDurableGoods.ProductionEmployeeHoursAndEarnings',\n",
       " 'https://download.bls.gov/pub/time.series/ce/ce.data.32a.ManufacturingNondurableGoods.Employment',\n",
       " 'https://download.bls.gov/pub/time.series/ce/ce.data.32b.ManufacturingNondurableGoods.AllEmployeeHoursAndEarnings',\n",
       " 'https://download.bls.gov/pub/time.series/ce/ce.data.32c.ManufacturingNondurableGoods.ProductionEmployeeHoursAndEarnings',\n",
       " 'https://download.bls.gov/pub/time.series/ce/ce.data.40a.TradeTransportationAndUtilities.Employment',\n",
       " 'https://download.bls.gov/pub/time.series/ce/ce.data.40b.TradeTransportationAndUtilities.AllEmployeeHoursAndEarnings',\n",
       " 'https://download.bls.gov/pub/time.series/ce/ce.data.40c.TradeTransportationAndUtilities.ProductionEmployeeHoursAndEarnings',\n",
       " 'https://download.bls.gov/pub/time.series/ce/ce.data.41a.WholesaleTrade.Employment',\n",
       " 'https://download.bls.gov/pub/time.series/ce/ce.data.41b.WholesaleTrade.AllEmployeeHoursAndEarnings',\n",
       " 'https://download.bls.gov/pub/time.series/ce/ce.data.41c.WholesaleTrade.ProductionEmployeeHoursAndEarnings',\n",
       " 'https://download.bls.gov/pub/time.series/ce/ce.data.42a.RetailTrade.Employment',\n",
       " 'https://download.bls.gov/pub/time.series/ce/ce.data.42b.RetailTrade.AllEmployeeHoursAndEarnings',\n",
       " 'https://download.bls.gov/pub/time.series/ce/ce.data.42c.RetailTrade.ProductionEmployeeHoursAndEarnings',\n",
       " 'https://download.bls.gov/pub/time.series/ce/ce.data.43a.TransportationAndWarehousingAndUtilities.Employment',\n",
       " 'https://download.bls.gov/pub/time.series/ce/ce.data.43b.TransportationAndWarehousingAndUtilities.AllEmployeeHoursAndEarnings',\n",
       " 'https://download.bls.gov/pub/time.series/ce/ce.data.43c.TransportationAndWarehousingAndUtilities.ProductionEmployeeHoursAndEarnings',\n",
       " 'https://download.bls.gov/pub/time.series/ce/ce.data.50a.Information.Employment',\n",
       " 'https://download.bls.gov/pub/time.series/ce/ce.data.50b.Information.AllEmployeeHoursAndEarnings',\n",
       " 'https://download.bls.gov/pub/time.series/ce/ce.data.50c.Information.ProductionEmployeeHoursAndEarnings',\n",
       " 'https://download.bls.gov/pub/time.series/ce/ce.data.55a.FinancialActivities.Employment',\n",
       " 'https://download.bls.gov/pub/time.series/ce/ce.data.55b.FinancialActivities.AllEmployeeHoursAndEarnings',\n",
       " 'https://download.bls.gov/pub/time.series/ce/ce.data.55c.FinancialActivities.ProductionEmployeeHoursAndEarnings',\n",
       " 'https://download.bls.gov/pub/time.series/ce/ce.data.60a.ProfessionalBusinessServices.Employment',\n",
       " 'https://download.bls.gov/pub/time.series/ce/ce.data.60b.ProfessionalBusinessServices.AllEmployeeHoursAndEarnings',\n",
       " 'https://download.bls.gov/pub/time.series/ce/ce.data.60c.ProfessionalBusinessServices.ProductionEmployeeHoursAndEarnings',\n",
       " 'https://download.bls.gov/pub/time.series/ce/ce.data.65a.EducationAndHealthCare.Employment',\n",
       " 'https://download.bls.gov/pub/time.series/ce/ce.data.65b.EducationAndHealthCare.AllEmployeeHoursAndEarnings',\n",
       " 'https://download.bls.gov/pub/time.series/ce/ce.data.65c.EducationAndHealthCare.ProductionEmployeeHoursAndEarnings',\n",
       " 'https://download.bls.gov/pub/time.series/ce/ce.data.70a.LeisureAndHospitality.Employment',\n",
       " 'https://download.bls.gov/pub/time.series/ce/ce.data.70b.LeisureAndHospitality.AllEmployeeHoursAndEarnings',\n",
       " 'https://download.bls.gov/pub/time.series/ce/ce.data.70c.LeisureAndHospitality.ProductionEmployeeHoursAndEarnings',\n",
       " 'https://download.bls.gov/pub/time.series/ce/ce.data.80a.OtherServices.Employment',\n",
       " 'https://download.bls.gov/pub/time.series/ce/ce.data.80b.OtherServices.AllEmployeeHoursAndEarnings',\n",
       " 'https://download.bls.gov/pub/time.series/ce/ce.data.80c.OtherServices.ProductionEmployeeHoursAndEarnings',\n",
       " 'https://download.bls.gov/pub/time.series/ce/ce.data.90a.Government.Employment',\n",
       " 'https://download.bls.gov/pub/time.series/ce/ce.data.Goog',\n",
       " 'https://download.bls.gov/pub/time.series/ce/ce.datatype',\n",
       " 'https://download.bls.gov/pub/time.series/ce/ce.footnote',\n",
       " 'https://download.bls.gov/pub/time.series/ce/ce.industry',\n",
       " 'https://download.bls.gov/pub/time.series/ce/ce.period',\n",
       " 'https://download.bls.gov/pub/time.series/ce/ce.seasonal',\n",
       " 'https://download.bls.gov/pub/time.series/ce/ce.series',\n",
       " 'https://download.bls.gov/pub/time.series/ce/ce.supersector',\n",
       " 'https://download.bls.gov/pub/time.series/ce/ce.txt']"
      ]
     },
     "execution_count": 12,
     "metadata": {},
     "output_type": "execute_result"
    }
   ],
   "source": [
    "parent"
   ]
  },
  {
   "cell_type": "code",
   "execution_count": 13,
   "id": "a6bb7821-508d-4291-9b8e-208842370034",
   "metadata": {
    "scrolled": true
   },
   "outputs": [
    {
     "name": "stdout",
     "output_type": "stream",
     "text": [
      "ce.contacts.txt  download\n",
      "ce.data.0.AllCESSeries.txt  download\n",
      "ce.data.00a.TotalNonfarm.Employment.txt  download\n",
      "ce.data.01a.CurrentSeasAE.txt  download\n",
      "ce.data.02b.AllRealEarningsAE.txt  download\n",
      "ce.data.03c.AllRealEarningsPE.txt  download\n",
      "ce.data.05a.TotalPrivate.Employment.txt  download\n",
      "ce.data.05b.TotalPrivate.AllEmployeeHoursAndEarnings.txt  download\n",
      "ce.data.05c.TotalPrivate.ProductionEmployeeHoursAndEarnings.txt  download\n",
      "ce.data.10a.MiningAndLogging.Employment.txt  download\n",
      "ce.data.10b.MiningAndLogging.AllEmployeeHoursAndEarnings.txt  download\n",
      "ce.data.10c.MiningAndLogging.ProductionEmployeeHoursAndEarnings.txt  download\n",
      "ce.data.20a.Construction.Employment.txt  download\n",
      "ce.data.20b.Construction.AllEmployeeHoursAndEarnings.txt  download\n",
      "ce.data.20c.Construction.ProductionEmployeeHoursAndEarnings.txt  download\n",
      "ce.data.30a.Manufacturing.Employment.txt  download\n",
      "ce.data.30b.Manufacturing.AllEmployeeHoursAndEarnings.txt  download\n",
      "ce.data.30c.Manufacturing.ProductionEmployeeHoursAndEarnings.txt  download\n",
      "ce.data.31a.ManufacturingDurableGoods.Employment.txt  download\n",
      "ce.data.31b.ManufacturingDurableGoods.AllEmployeeHoursAndEarnings.txt  download\n",
      "ce.data.31c.ManufacturingDurableGoods.ProductionEmployeeHoursAndEarnings.txt  download\n",
      "ce.data.32a.ManufacturingNondurableGoods.Employment.txt  download\n",
      "ce.data.32b.ManufacturingNondurableGoods.AllEmployeeHoursAndEarnings.txt  download\n",
      "ce.data.32c.ManufacturingNondurableGoods.ProductionEmployeeHoursAndEarnings.txt  download\n",
      "ce.data.40a.TradeTransportationAndUtilities.Employment.txt  download\n",
      "ce.data.40b.TradeTransportationAndUtilities.AllEmployeeHoursAndEarnings.txt  download\n",
      "ce.data.40c.TradeTransportationAndUtilities.ProductionEmployeeHoursAndEarnings.txt  download\n",
      "ce.data.41a.WholesaleTrade.Employment.txt  download\n",
      "ce.data.41b.WholesaleTrade.AllEmployeeHoursAndEarnings.txt  download\n",
      "ce.data.41c.WholesaleTrade.ProductionEmployeeHoursAndEarnings.txt  download\n",
      "ce.data.42a.RetailTrade.Employment.txt  download\n",
      "ce.data.42b.RetailTrade.AllEmployeeHoursAndEarnings.txt  download\n",
      "ce.data.42c.RetailTrade.ProductionEmployeeHoursAndEarnings.txt  download\n",
      "ce.data.43a.TransportationAndWarehousingAndUtilities.Employment.txt  download\n",
      "ce.data.43b.TransportationAndWarehousingAndUtilities.AllEmployeeHoursAndEarnings.txt  download\n",
      "ce.data.43c.TransportationAndWarehousingAndUtilities.ProductionEmployeeHoursAndEarnings.txt  download\n",
      "ce.data.50a.Information.Employment.txt  download\n",
      "ce.data.50b.Information.AllEmployeeHoursAndEarnings.txt  download\n",
      "ce.data.50c.Information.ProductionEmployeeHoursAndEarnings.txt  download\n",
      "ce.data.55a.FinancialActivities.Employment.txt  download\n",
      "ce.data.55b.FinancialActivities.AllEmployeeHoursAndEarnings.txt  download\n",
      "ce.data.55c.FinancialActivities.ProductionEmployeeHoursAndEarnings.txt  download\n",
      "ce.data.60a.ProfessionalBusinessServices.Employment.txt  download\n",
      "ce.data.60b.ProfessionalBusinessServices.AllEmployeeHoursAndEarnings.txt  download\n",
      "ce.data.60c.ProfessionalBusinessServices.ProductionEmployeeHoursAndEarnings.txt  download\n",
      "ce.data.65a.EducationAndHealthCare.Employment.txt  download\n",
      "ce.data.65b.EducationAndHealthCare.AllEmployeeHoursAndEarnings.txt  download\n",
      "ce.data.65c.EducationAndHealthCare.ProductionEmployeeHoursAndEarnings.txt  download\n",
      "ce.data.70a.LeisureAndHospitality.Employment.txt  download\n",
      "ce.data.70b.LeisureAndHospitality.AllEmployeeHoursAndEarnings.txt  download\n",
      "ce.data.70c.LeisureAndHospitality.ProductionEmployeeHoursAndEarnings.txt  download\n",
      "ce.data.80a.OtherServices.Employment.txt  download\n",
      "ce.data.80b.OtherServices.AllEmployeeHoursAndEarnings.txt  download\n",
      "ce.data.80c.OtherServices.ProductionEmployeeHoursAndEarnings.txt  download\n",
      "ce.data.90a.Government.Employment.txt  download\n",
      "ce.data.Goog.txt  download\n",
      "ce.datatype.txt  download\n",
      "ce.footnote.txt  download\n",
      "ce.industry.txt  download\n",
      "ce.period.txt  download\n",
      "ce.seasonal.txt  download\n",
      "ce.series.txt  download\n",
      "ce.supersector.txt  download\n",
      "ce.txt.txt  download\n"
     ]
    }
   ],
   "source": [
    "import requests\n",
    "import os\n",
    "\n",
    "#url = 'https://download.bls.gov/pub/time.series/ce/ce.txt'\n",
    "\n",
    "# Download file\n",
    "for file in parent:\n",
    "    response = requests.get(file,headers = {\"user-agent\":\"melissa.galvez@nimblegravity.com\"})\n",
    "    file_name = file.split('/')[-1]+'.txt' \n",
    "    file_path = os.path.join('./files', file_name)\n",
    "# Verify response\n",
    "    if response.status_code == 200:\n",
    "        with open(file_path, 'wb') as f:\n",
    "            f.write(response.content)\n",
    "        print(f'{file_name}  download')  \n",
    "    else:\n",
    "        print(\"Error:\", response.status_code)\n"
   ]
  }
 ],
 "metadata": {
  "kernelspec": {
   "display_name": "Python 3 (ipykernel)",
   "language": "python",
   "name": "python3"
  },
  "language_info": {
   "codemirror_mode": {
    "name": "ipython",
    "version": 3
   },
   "file_extension": ".py",
   "mimetype": "text/x-python",
   "name": "python",
   "nbconvert_exporter": "python",
   "pygments_lexer": "ipython3",
   "version": "3.12.5"
  }
 },
 "nbformat": 4,
 "nbformat_minor": 5
}
